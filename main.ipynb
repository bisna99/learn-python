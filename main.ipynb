{
 "cells": [
  {
   "cell_type": "code",
   "execution_count": 9,
   "id": "7e5ae457",
   "metadata": {},
   "outputs": [
    {
     "name": "stdout",
     "output_type": "stream",
     "text": [
      "1\n",
      "new line\n",
      "1 hello 2 3\n"
     ]
    }
   ],
   "source": [
    "#print\n",
    "print(1)\n",
    "print(\"new line\")\n",
    "print(1,\"hello\",2,3)"
   ]
  },
  {
   "cell_type": "code",
   "execution_count": 16,
   "id": "b946e1ba",
   "metadata": {},
   "outputs": [
    {
     "name": "stdout",
     "output_type": "stream",
     "text": [
      "1 :  <class 'int'>\n",
      "Bisna :  <class 'str'>\n",
      "1.0 :  <class 'float'>\n"
     ]
    }
   ],
   "source": [
    "print(\"1 : \",type(1))\n",
    "print(\"Bisna : \",type(\"Bisna\"))\n",
    "print(\"1.0 : \",type(1.0))"
   ]
  },
  {
   "cell_type": "code",
   "execution_count": null,
   "id": "14d197a5",
   "metadata": {},
   "outputs": [],
   "source": []
  }
 ],
 "metadata": {
  "kernelspec": {
   "display_name": "Python 3 (ipykernel)",
   "language": "python",
   "name": "python3"
  },
  "language_info": {
   "codemirror_mode": {
    "name": "ipython",
    "version": 3
   },
   "file_extension": ".py",
   "mimetype": "text/x-python",
   "name": "python",
   "nbconvert_exporter": "python",
   "pygments_lexer": "ipython3",
   "version": "3.9.10"
  }
 },
 "nbformat": 4,
 "nbformat_minor": 5
}
