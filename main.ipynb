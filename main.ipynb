{
 "cells": [
  {
   "cell_type": "code",
   "execution_count": 9,
   "id": "7e5ae457",
   "metadata": {},
   "outputs": [
    {
     "name": "stdout",
     "output_type": "stream",
     "text": [
      "1\n",
      "new line\n",
      "1 hello 2 3\n"
     ]
    }
   ],
   "source": [
    "# Print\n",
    "print(1)\n",
    "print(\"new line\")\n",
    "print(1,\"hello\",2,3)"
   ]
  },
  {
   "cell_type": "code",
   "execution_count": 7,
   "id": "b946e1ba",
   "metadata": {},
   "outputs": [
    {
     "name": "stdout",
     "output_type": "stream",
     "text": [
      "1 :  <class 'int'>\n",
      "1.0 :  <class 'float'>\n",
      "Bisna :  <class 'str'>\n"
     ]
    }
   ],
   "source": [
    "# Data types\n",
    "\n",
    "# Integer\n",
    "print(\"1 : \",type(1))\n",
    "\n",
    "# Floating-point (decimal)\n",
    "print(\"1.0 : \",type(1.0))\n",
    "\n",
    "# String\n",
    "print(\"Bisna : \",type(\"Bisna\"))"
   ]
  },
  {
   "cell_type": "code",
   "execution_count": 6,
   "id": "14d197a5",
   "metadata": {},
   "outputs": [
    {
     "name": "stdout",
     "output_type": "stream",
     "text": [
      "3\n",
      "1\n",
      "3.3333333333333335\n",
      "10\n",
      "3\n",
      "1\n",
      "8\n"
     ]
    }
   ],
   "source": [
    "# Math Operations\n",
    "# +,-,/,* \n",
    "print(1+2)\n",
    "print(2-1)\n",
    "print(10/3)\n",
    "print(2*5)\n",
    "\n",
    "# //  -> integer division\n",
    "print(10//3)\n",
    "\n",
    "# % Modulus/Remainder\n",
    "print(10%3)\n",
    "\n",
    "# ** exponent\n",
    "print(2**3)"
   ]
  },
  {
   "cell_type": "code",
   "execution_count": 12,
   "id": "e49398b0",
   "metadata": {},
   "outputs": [
    {
     "name": "stdout",
     "output_type": "stream",
     "text": [
      "Bisna\n"
     ]
    }
   ],
   "source": [
    "# Variable\n",
    "# 1. One Word\n",
    "# 2. contains only letters, numbers and underscore(_)\n",
    "# 3. Can't begin with a number\n",
    "\n",
    "name = \"Bisna\"\n",
    "age = 23\n",
    "\n",
    "print(name)"
   ]
  },
  {
   "cell_type": "code",
   "execution_count": 14,
   "id": "2b2ae54b",
   "metadata": {},
   "outputs": [
    {
     "name": "stdout",
     "output_type": "stream",
     "text": [
      "Please enter your name : Vishnu\n",
      "Hello,  Vishnu\n"
     ]
    }
   ],
   "source": [
    "# Taking user input\n",
    "name = input(\"Please enter your name : \")\n",
    "print(\"Hello, \",name)"
   ]
  },
  {
   "cell_type": "code",
   "execution_count": 20,
   "id": "c4aa1355",
   "metadata": {},
   "outputs": [
    {
     "name": "stdout",
     "output_type": "stream",
     "text": [
      "25 <class 'int'>\n",
      "25 <class 'str'>\n",
      "25.0 <class 'float'>\n"
     ]
    }
   ],
   "source": [
    "# Type casting\n",
    "age = 25\n",
    "print(age,type(age))\n",
    "age2 = str(age)\n",
    "print(age2,type(age2))\n",
    "age3 = float(age2)\n",
    "print(age3,type(age3))"
   ]
  },
  {
   "cell_type": "code",
   "execution_count": 22,
   "id": "4f9364dd",
   "metadata": {},
   "outputs": [
    {
     "name": "stdout",
     "output_type": "stream",
     "text": [
      "Please enter your age : 21\n",
      "21 <class 'str'>\n",
      "Please enter your age : 21\n",
      "21 <class 'int'>\n"
     ]
    }
   ],
   "source": [
    "age = input(\"Please enter your age : \")\n",
    "print(age,type(age))\n",
    "\n",
    "age2 = int(input(\"Please enter your age : \"))\n",
    "print(age2,type(age2))"
   ]
  },
  {
   "cell_type": "code",
   "execution_count": 34,
   "id": "7808f1ee",
   "metadata": {},
   "outputs": [
    {
     "name": "stdout",
     "output_type": "stream",
     "text": [
      "1 == 1 True\n",
      "1 == 2 False\n",
      "1 != 1 False\n",
      "1 != 2 True\n",
      "1 < 1 False\n",
      "1 < 2 True\n",
      "1 > 1 False\n",
      "3 > 2 True\n",
      "1 <= 1 True\n",
      "1 <= 2 True\n",
      "1 >= 1 True\n",
      "3 >= 2 True\n"
     ]
    }
   ],
   "source": [
    "# Comparision \n",
    "\n",
    "# '==' Equals to\n",
    "print(\"1 == 1\",1 == 1)\n",
    "print(\"1 == 2\",1 == 2)\n",
    "\n",
    "# '!=' Not equals to\n",
    "print(\"1 != 1\",1 != 1)\n",
    "print(\"1 != 2\",1 != 2)\n",
    "\n",
    "# '<' Less than\n",
    "print(\"1 < 1\",1 < 1)\n",
    "print(\"1 < 2\",1 < 2)\n",
    "\n",
    "# '>' Greater than\n",
    "print(\"1 > 1\",1 > 1)\n",
    "print(\"3 > 2\",3 > 2)\n",
    "\n",
    "# '<=' Less than or equal to\n",
    "print(\"1 <= 1\",1 <= 1)\n",
    "print(\"1 <= 2\",1 <= 2)\n",
    "\n",
    "# '>=' Greater than or equal to\n",
    "print(\"1 >= 1\",1 >= 1)\n",
    "print(\"3 >= 2\",3 >= 2)"
   ]
  },
  {
   "cell_type": "code",
   "execution_count": 37,
   "id": "09ed4bd1",
   "metadata": {},
   "outputs": [
    {
     "name": "stdout",
     "output_type": "stream",
     "text": [
      "(4 < 5) and (5 < 6) :  True\n"
     ]
    }
   ],
   "source": [
    "# Boolean\n",
    "# 'and' 'or' 'not'\n",
    "print(\"(4 < 5) and (5 < 6) : \", (4 < 5) and (5 < 6))"
   ]
  },
  {
   "cell_type": "code",
   "execution_count": 38,
   "id": "fc8807b8",
   "metadata": {},
   "outputs": [],
   "source": [
    "# Conditional Statements"
   ]
  },
  {
   "cell_type": "code",
   "execution_count": 41,
   "id": "31c7a0c9",
   "metadata": {},
   "outputs": [
    {
     "name": "stdout",
     "output_type": "stream",
     "text": [
      "Enter your age : 12\n",
      "You can't drive\n"
     ]
    }
   ],
   "source": [
    "# IF - ELSE Statement\n",
    "age = int(input(\"Enter your age : \"))\n",
    "if( age > 18):\n",
    "    print(\"You can drive\")\n",
    "else :\n",
    "    print(\"You can't drive\")"
   ]
  },
  {
   "cell_type": "code",
   "execution_count": 44,
   "id": "43c25c9b",
   "metadata": {},
   "outputs": [
    {
     "name": "stdout",
     "output_type": "stream",
     "text": [
      "Enter your mark : 80\n",
      "You got first class\n"
     ]
    }
   ],
   "source": [
    "# ELIF ( Else if)\n",
    "mark = int(input(\"Enter your mark : \"))\n",
    "\n",
    "if( mark > 80 ) :\n",
    "    print(\"You got distinction\")\n",
    "elif ( mark > 70) :\n",
    "    print(\"You got first class\")\n",
    "elif ( mark > 60) :\n",
    "    print(\"You got second class\")\n",
    "elif ( mark > 50) :\n",
    "    print(\"You got third class\")\n",
    "elif ( mark > 40) :\n",
    "    print(\"You Passed\")\n",
    "else :\n",
    "    print(\"You failed\")"
   ]
  },
  {
   "cell_type": "code",
   "execution_count": 45,
   "id": "06f7d449",
   "metadata": {},
   "outputs": [
    {
     "name": "stdout",
     "output_type": "stream",
     "text": [
      "Enter your age : 23\n",
      "You can drive\n"
     ]
    }
   ],
   "source": [
    "# Ternary condition\n",
    "# expression1 if condition else expression2\n",
    "age = int(input(\"Enter your age : \"))\n",
    "print(\"You can drive\" if age > 18 else \"You can't drive\")"
   ]
  },
  {
   "cell_type": "code",
   "execution_count": 46,
   "id": "9a197139",
   "metadata": {},
   "outputs": [],
   "source": [
    "# Loops"
   ]
  },
  {
   "cell_type": "code",
   "execution_count": null,
   "id": "a2474bcc",
   "metadata": {},
   "outputs": [],
   "source": []
  }
 ],
 "metadata": {
  "kernelspec": {
   "display_name": "Python 3 (ipykernel)",
   "language": "python",
   "name": "python3"
  },
  "language_info": {
   "codemirror_mode": {
    "name": "ipython",
    "version": 3
   },
   "file_extension": ".py",
   "mimetype": "text/x-python",
   "name": "python",
   "nbconvert_exporter": "python",
   "pygments_lexer": "ipython3",
   "version": "3.9.10"
  }
 },
 "nbformat": 4,
 "nbformat_minor": 5
}
